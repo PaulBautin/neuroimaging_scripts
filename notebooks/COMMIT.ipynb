{
 "cells": [
  {
   "cell_type": "code",
   "execution_count": 1,
   "id": "09be8268-ec22-44f7-9163-a188e782f814",
   "metadata": {},
   "outputs": [],
   "source": [
    "import commit\n",
    "from commit import trk2dictionary\n",
    "from os.path import join\n",
    "import numpy as np\n",
    "commit.setup()\n"
   ]
  },
  {
   "cell_type": "markdown",
   "id": "4f5bedc6",
   "metadata": {},
   "source": [
    "# command to run tractography\n",
    "sub_folder='/home/pabaua/dev_mni/data/sub-PNC001_ses-01/sub-PNC001/ses-01/dwi' \\\n",
    "sub='sub-PNC001_ses-01' \\\n",
    "tracts='10000' \\\n",
    "tck=\"${sub_folder}/${sub}_space-dwi_desc-iFOD2-${tracts}_tractography.tck\" \\\n",
    "tckgen \\\n",
    "        ${sub_folder}/sub-PNC001_ses-01_space-dwi_model-CSD_map-FOD_desc-wmNorm_peaks.nii.gz \\\n",
    "        \"$tck\" \\\n",
    "        -act ${sub_folder}/sub-PNC001_ses-01_space-dwi_desc-5tt.nii.gz \\\n",
    "        -crop_at_gmwmi \\\n",
    "        -backtrack \\\n",
    "        -seed_dynamic ${sub_folder}/sub-PNC001_ses-01_space-dwi_model-CSD_map-FOD_desc-wmNorm_peaks.nii.gz \\\n",
    "        -algorithm iFOD2 \\\n",
    "        -step 0.5 \\\n",
    "        -angle 22.5 \\\n",
    "        -cutoff 0.06 \\\n",
    "        -maxlength 400 \\\n",
    "        -minlength 10 \\\n",
    "        -select \"$tracts\""
   ]
  },
  {
   "cell_type": "code",
   "execution_count": 2,
   "id": "9e56863f-d7f9-45b5-b68c-ed7c088bf1e3",
   "metadata": {},
   "outputs": [
    {
     "name": "stdout",
     "output_type": "stream",
     "text": [
      "\u001b[0;32m\n",
      "-> Precomputing rotation matrices:\u001b[0m\n",
      "\u001b[0;32m   [ DONE ]\u001b[0m                                                                                                                                          \n"
     ]
    }
   ],
   "source": [
    "\n",
    "trk2dictionary.run(\n",
    "    filename_tractogram = 'demo01_fibers.tck',\n",
    "    filename_peaks      = 'peaks.nii.gz',\n",
    "    filename_mask       = 'WM.nii.gz',\n",
    "    fiber_shift         = 0.5,\n",
    "    peaks_use_affine    = True\n",
    ")"
   ]
  },
  {
   "cell_type": "code",
   "execution_count": 17,
   "id": "bbef96b0",
   "metadata": {},
   "outputs": [
    {
     "name": "stdout",
     "output_type": "stream",
     "text": [
      "\u001b[0;32m\n",
      "-> Writing scheme file to [ /home/pabaua/dev_mni/data/sub-PNC001_ses-01/sub-PNC001/ses-01/dwi/sub-PNC001_ses-01_space-dwi_desc-preproc_dwi.scheme ]\u001b[0m\n"
     ]
    },
    {
     "data": {
      "text/plain": [
       "'/home/pabaua/dev_mni/data/sub-PNC001_ses-01/sub-PNC001/ses-01/dwi/sub-PNC001_ses-01_space-dwi_desc-preproc_dwi.scheme'"
      ]
     },
     "execution_count": 17,
     "metadata": {},
     "output_type": "execute_result"
    }
   ],
   "source": [
    "# Prepare acquisition scheme information in FSL format\n",
    "# `mrconvert -export_grad_fsl <bvec_output_file> <bval_output_file> <mrtrix_input_file> <nifti_output_file>`\n",
    "NODDI_bval = join(ae.get_config(\"study_path\"), ae.get_config(\"subject\"), 'ses-01/dwi/sub-PNC001_ses-01_space-dwi_desc-preproc_dwi.bval')\n",
    "NODDI_bvec = join(ae.get_config(\"study_path\"), ae.get_config(\"subject\"), 'ses-01/dwi/sub-PNC001_ses-01_space-dwi_desc-preproc_dwi.bvec')\n",
    "amico.util.fsl2scheme(NODDI_bval, NODDI_bvec)"
   ]
  },
  {
   "cell_type": "code",
   "execution_count": 18,
   "id": "936a244d",
   "metadata": {},
   "outputs": [
    {
     "name": "stdout",
     "output_type": "stream",
     "text": [
      "\u001b[0;32m\n",
      "-> Loading data:\u001b[0m\n",
      "\t* DWI signal\n",
      "\t\t- dim    = 192 x 192 x 132 x 143\n",
      "\t\t- pixdim = 1.099 x 1.099 x 1.100\n",
      "\t* Acquisition scheme\n",
      "\t\t- 143 samples, 28 shells\n",
      "\t\t- 3 @ b=0 , 4 @ b=2010.0 , 8 @ b=2000.0 , 7 @ b=1970.0 , 11 @ b=1980.0 , 8 @ b=1975.0 , 7 @ b=2005.0 , 4 @ b=2030.0 , 5 @ b=1990.0 , 7 @ b=2015.0 , 6 @ b=2025.0 , 9 @ b=1995.0 , 7 @ b=1985.0 , 5 @ b=2020.0 , 2 @ b=1965.0 , 3 @ b=305.0 , 2 @ b=300.0 , 1 @ b=310.0 , 1 @ b=295.0 , 3 @ b=290.0 , 8 @ b=715.0 , 5 @ b=705.0 , 7 @ b=700.0 , 5 @ b=695.0 , 5 @ b=710.0 , 4 @ b=690.0 , 1 @ b=720.0 , 4 @ b=685.0 , 1 @ b=680.0 \n",
      "\t* Binary mask\n",
      "\t\t- dim    = 192 x 192 x 132\n",
      "\t\t- pixdim = 1.099 x 1.099 x 1.100\n",
      "\t\t- voxels = 915927\n",
      "\u001b[0;32m   [ 23.4 seconds ]\u001b[0m\n",
      "\u001b[0;32m\n",
      "-> Preprocessing:\u001b[0m\n",
      "\t* Normalizing to b0... [ min=-451.24,  mean=0.68, max=1028.70 ]\n",
      "\t* Keeping all b0 volume(s)\n",
      "\u001b[0;32m   [ 6.8 seconds ]\u001b[0m\n"
     ]
    }
   ],
   "source": [
    "# Load the diffusion signal and its corresponding acquisition scheme.\n",
    "NODDI_img = join(ae.get_config(\"study_path\"), ae.get_config(\"subject\"), 'ses-01/dwi/sub-PNC001_ses-01_space-dwi_desc-preproc_dwi.nii.gz')\n",
    "NODDI_scheme = join(ae.get_config(\"study_path\"), ae.get_config(\"subject\"), 'ses-01/dwi/sub-PNC001_ses-01_space-dwi_desc-preproc_dwi.scheme')\n",
    "brain_mask = join(ae.get_config(\"study_path\"), ae.get_config(\"subject\"), 'ses-01/dwi/sub-PNC001_ses-01_space-dwi_desc-brain_mask.nii.gz')\n",
    "ae.load_data(NODDI_img, NODDI_scheme, mask_filename=brain_mask, b0_thr=50)"
   ]
  },
  {
   "cell_type": "code",
   "execution_count": 22,
   "id": "d69db36f",
   "metadata": {},
   "outputs": [
    {
     "name": "stdout",
     "output_type": "stream",
     "text": [
      "\u001b[0;32m\n",
      "-> Creating LUT for \"NODDI\" model:\u001b[0m\n",
      "\u001b[0;32m   [ 28.0 seconds ]\u001b[0m                                                                                                                                  \n"
     ]
    }
   ],
   "source": [
    "# Set the model to use to describe the signal contributions in each voxel.\n",
    "# models: ['StickZeppelinBall', 'CylinderZeppelinBall', 'NODDI', 'FreeWater', 'SANDI']\n",
    "ae.set_model('NODDI')\n",
    "\n",
    "# Define NODDI model parameters to compute each compartment response function\n",
    "# para_diff is the axial diffusivity (AD) in the CC -- single fiber\n",
    "para_diff=1.7E-3\n",
    "# iso_diff is the mean diffusivity (MD) in ventricles.\n",
    "iso_diff=3.0E-3\n",
    "intra_vol_frac = np.linspace(0.1, 0.99, 12)\n",
    "intra_orient_distr = np.hstack((np.array([0.03, 0.06]), np.linspace(0.09, 0.99, 10)))\n",
    "ae.model.set(dPar=para_diff, dIso=iso_diff,IC_VFs=intra_vol_frac, IC_ODs=intra_orient_distr, isExvivo=False)\n",
    "\n",
    "# Generate the high-resolution response functions for each compartment with:\n",
    "# lambda1 is the first regularization parameter.\n",
    "# lambda2 is the second regularization parameter.\n",
    "#        StickZeppelinBall:      'set_solver()' not implemented\n",
    "#        CylinderZeppelinBall:   lambda1 = 0.0, lambda2 = 4.0\n",
    "#        NODDI:                  lambda1 = 5e-1, lambda2 = 1e-3\n",
    "#        FreeWater:              lambda1 = 0.0, lambda2 = 1e-3\n",
    "#        VolumeFractions:        'set_solver()' not implemented\n",
    "#        SANDI:                  lambda1 = 0.0, lambda2 = 5e-3\n",
    "ae.set_solver(lambda1=5e-1, lambda2=1e-3)\n",
    "ae.generate_kernels(regenerate=True)"
   ]
  },
  {
   "cell_type": "code",
   "execution_count": 16,
   "id": "46a3934a",
   "metadata": {},
   "outputs": [
    {
     "name": "stdout",
     "output_type": "stream",
     "text": [
      "\u001b[0;32m\n",
      "-> Resampling LUT for subject \".\":\u001b[0m\n",
      "\u001b[0;32m   [ 2.9 seconds ]\u001b[0m                                                                                                                                   \n",
      "\u001b[0;32m\n",
      "-> Estimating principal directions (OLS):\u001b[0m\n",
      "\u001b[0;32m   [ 00h 00m 05s ]\u001b[0m                                                                                                                                   \n",
      "\u001b[0;32m\n",
      "-> Fitting 'NODDI' model to 915927 voxels (using 8 threads):\u001b[0m\n",
      "\u001b[0;32m   [ 00h 11m 01s ]\u001b[0m                                                                                                                                   \n"
     ]
    }
   ],
   "source": [
    "# Load rotated kernels and project to the specific gradient scheme of this subject.\n",
    "ae.load_kernels()\n",
    "# Fit the model to the data.\n",
    "ae.fit()\n",
    "# Save the output (directions, maps etc).\n",
    "ae.save_results()"
   ]
  }
 ],
 "metadata": {
  "kernelspec": {
   "display_name": "env_scil",
   "language": "python",
   "name": "python3"
  },
  "language_info": {
   "codemirror_mode": {
    "name": "ipython",
    "version": 3
   },
   "file_extension": ".py",
   "mimetype": "text/x-python",
   "name": "python",
   "nbconvert_exporter": "python",
   "pygments_lexer": "ipython3",
   "version": "3.10.12"
  }
 },
 "nbformat": 4,
 "nbformat_minor": 5
}
